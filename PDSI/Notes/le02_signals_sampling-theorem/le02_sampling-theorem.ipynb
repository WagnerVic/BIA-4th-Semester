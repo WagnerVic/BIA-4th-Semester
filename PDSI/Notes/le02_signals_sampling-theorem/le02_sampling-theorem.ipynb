{
 "cells": [
  {
   "cell_type": "markdown",
   "id": "8de3c52d",
   "metadata": {},
   "source": [
    "# Aula02 - Teorema da amostragem\n",
    "\n",
    "Neste notebook trabalharemos na demostração empírica do Teorema da Amostragem (Teorema de Nyqvist-Shannon).\n",
    "\n",
    "Também reforçaremos a ideia de **frequência de amostragem**, conceito FUNDAMENTAL em sinais.\n",
    "\n",
    "Desafio: Corrija a simulação para fazer que ela funcione."
   ]
  },
  {
   "cell_type": "code",
   "execution_count": 1,
   "id": "27acda5f",
   "metadata": {},
   "outputs": [],
   "source": [
    "import numpy as np\n",
    "import matplotlib.pyplot as plt\n",
    "from IPython import display"
   ]
  },
  {
   "cell_type": "code",
   "execution_count": null,
   "id": "da6e96f3",
   "metadata": {},
   "outputs": [],
   "source": [
    "# Demostracao do Teorema da amostragem\n",
    "# Sinal analogico simulado\n",
    "ti = 0 # tempo inicial (liberando a singularidade para x=0 em sinc(x) / x)\n",
    "tf = 10  # tempo final\n",
    "Na = 1000 # Numero de amostras do sinal analogico\n",
    "f = Na / (tf - ti) # frequencia de amostragem do sinal analogico\n",
    "T = 1. / f # tempo de amostragem do sinal analogico\n",
    "\n",
    "t = np.linspace(ti, tf, Na)\n",
    "y = ...\n",
    "\n",
    "# Sinal digital (amostrado apartir do original)\n",
    "fs = ... # frequencia de amostragem\n",
    "Ts = 1./fs # tempo de amostragem\n",
    "\n",
    "Nd = int(f / fs)\n",
    "yn = y[0: -1: Nd]\n",
    "n = np.arange(len(yn))\n",
    "\n",
    "# Plot interativo\n",
    "fig, ax = plt.subplots()\n",
    "\n",
    "x = np.zeros(len(t))\n",
    "for nn in n:\n",
    "    x = ...\n",
    "        \n",
    "    ax.set_xlim(t[0], t[-1])\n",
    "    ax.cla()\n",
    "    ax.plot(t, x, 'b')\n",
    "    display.display(fig)\n",
    "    display.clear_output(wait = True)\n",
    "#         plt.pause(0.1)"
   ]
  },
  {
   "cell_type": "markdown",
   "id": "c8d16838-2e95-41c5-9d1a-601c43b54334",
   "metadata": {},
   "source": [
    "# Dica\n",
    "Plote um sinal sinc e tente entender como ele opera no sinal\n",
    "\n",
    "<img src=\"sinc.png\" alt=\"\" width=\"500\"/>"
   ]
  },
  {
   "cell_type": "markdown",
   "id": "5d0516c8-df8f-433d-91b9-f08b23b25cde",
   "metadata": {},
   "source": [
    "# Dica\n",
    "Continue, plotando o sinal analógico (original) e o reconstruído\n",
    "\n",
    "<img src=\"original-signal.png\" alt=\"\" width=\"500\"/>\n",
    "\n",
    "<img src=\"reconstructed-signal.png\" alt=\"\" width=\"500\"/>\n",
    "\n",
    "<img src=\"reconstructed-02.png\" alt=\"\" width=\"500\"/>"
   ]
  },
  {
   "cell_type": "code",
   "execution_count": 1,
   "id": "2694da99-e1c6-4a25-9a1e-fdef7e46c4db",
   "metadata": {},
   "outputs": [],
   "source": [
    "# Plot sinal analógico \n",
    "\n",
    "# Plot sinal reconstruído\n",
    "\n",
    "# Plot sinal reconstruído\n"
   ]
  },
  {
   "cell_type": "markdown",
   "id": "82cb269d",
   "metadata": {},
   "source": [
    "## Desafio\n",
    "Encontre empiricamente a frequencia minima de amostragem $fs$ para o sinal do primeiro exemplo"
   ]
  },
  {
   "cell_type": "markdown",
   "id": "b5bed8ce",
   "metadata": {},
   "source": [
    "## Desafio\n",
    "\n",
    "1. Importe um sinal de áudio musical no Python\n",
    "2. Analise o sinal com o objetivo de encontrar a frequencia de amostragem $fs$ minima que satisfaz o Teorema da Amostragem de Shannon-Nyqvist\n",
    "3. Sintetize o seu sinal com frequencias de amostragens maiores/menores do que a original. O que acontece em cada caso?"
   ]
  },
  {
   "cell_type": "code",
   "execution_count": 2,
   "id": "b58fb5f8",
   "metadata": {},
   "outputs": [],
   "source": [
    "# Referencias\n",
    "# https://pythonguides.com/matplotlib-update-plot-in-loop/"
   ]
  },
  {
   "cell_type": "code",
   "execution_count": null,
   "id": "5a7f4ead-fb44-4377-92a4-20d934bffd74",
   "metadata": {},
   "outputs": [],
   "source": []
  }
 ],
 "metadata": {
  "kernelspec": {
   "display_name": "Python 3 (ipykernel)",
   "language": "python",
   "name": "python3"
  },
  "language_info": {
   "codemirror_mode": {
    "name": "ipython",
    "version": 3
   },
   "file_extension": ".py",
   "mimetype": "text/x-python",
   "name": "python",
   "nbconvert_exporter": "python",
   "pygments_lexer": "ipython3",
   "version": "3.13.2"
  }
 },
 "nbformat": 4,
 "nbformat_minor": 5
}
