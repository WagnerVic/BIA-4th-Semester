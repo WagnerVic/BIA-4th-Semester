{
 "cells": [
  {
   "cell_type": "markdown",
   "id": "e27cfd97",
   "metadata": {},
   "source": [
    "# Basic signals\n",
    "Neste Notebook trabalharemos os sinais digitais essenciais:\n",
    "\n",
    "1. Sinal delta $\\delta[n]$\n",
    "2. Sinal degrau $u[n]$\n",
    "4. Sinal periódico $A \\sin(\\omega n + \\phi)$\n",
    "5. Sinal aleatório (estocástico)\n",
    "6. Sinal exponencial"
   ]
  },
  {
   "cell_type": "code",
   "execution_count": null,
   "id": "e58c1771",
   "metadata": {},
   "outputs": [
    {
     "ename": "SyntaxError",
     "evalue": "invalid syntax (734473680.py, line 1)",
     "output_type": "error",
     "traceback": [
      "  \u001b[36mCell\u001b[39m\u001b[36m \u001b[39m\u001b[32mIn[1]\u001b[39m\u001b[32m, line 1\u001b[39m\n\u001b[31m    \u001b[39m\u001b[31mimport ...\u001b[39m\n           ^\n\u001b[31mSyntaxError\u001b[39m\u001b[31m:\u001b[39m invalid syntax\n"
     ]
    }
   ],
   "source": []
  },
  {
   "cell_type": "code",
   "execution_count": 3,
   "id": "92d6e7e8",
   "metadata": {},
   "outputs": [],
   "source": [
    "# 1. Sinal delta (v1.0)\n",
    "\n",
    "# 1. Sinal delta (v2.0)\n"
   ]
  },
  {
   "cell_type": "markdown",
   "id": "2b99b6d7-17c6-49d8-a8fd-8e9b56312be7",
   "metadata": {},
   "source": [
    "<img src=\"delta.png\" alt=\"\" width=\"500\"/>"
   ]
  },
  {
   "cell_type": "code",
   "execution_count": 4,
   "id": "52b3f102",
   "metadata": {},
   "outputs": [],
   "source": [
    "# 2. Degrau (v1.0)\n",
    "\n",
    "# 2. Degrau (v2.0)\n"
   ]
  },
  {
   "cell_type": "markdown",
   "id": "ca95cdf2-68af-413e-b99d-b299134bda88",
   "metadata": {},
   "source": [
    "<img src=\"step.png\" alt=\"\" width=\"500\"/>"
   ]
  },
  {
   "cell_type": "code",
   "execution_count": 5,
   "id": "3961b6a7",
   "metadata": {},
   "outputs": [],
   "source": [
    "# 3. Exponencial\n"
   ]
  },
  {
   "cell_type": "markdown",
   "id": "8a213025-7af1-40b2-b390-6a83bbd0d3f9",
   "metadata": {},
   "source": [
    "<img src=\"exp.png\" alt=\"\" width=\"500\"/>"
   ]
  },
  {
   "cell_type": "code",
   "execution_count": 6,
   "id": "eb928850",
   "metadata": {},
   "outputs": [],
   "source": [
    "# 4. Sinal periodico\n"
   ]
  },
  {
   "cell_type": "markdown",
   "id": "cc647d3d-9b89-4805-9fdc-12f13de03ce3",
   "metadata": {},
   "source": [
    "<img src=\"sine.png\" alt=\"\" width=\"500\"/>"
   ]
  },
  {
   "cell_type": "code",
   "execution_count": 1,
   "id": "b02fa769",
   "metadata": {},
   "outputs": [],
   "source": [
    "# 5. Sinal aleatorio (distribuicao Gaussiana)\n"
   ]
  },
  {
   "cell_type": "markdown",
   "id": "4738d826-7bfd-4ada-9d90-5527c75f0a9e",
   "metadata": {},
   "source": [
    "<img src=\"random-Gaussian.png\" alt=\"\" width=\"500\"/>"
   ]
  },
  {
   "cell_type": "markdown",
   "id": "c8d95ad2-f90d-4690-9e1b-cdfa16e59ff2",
   "metadata": {},
   "source": [
    "Plote o **histograma** deste sinal.\n",
    "\n",
    "**Dica:** Use `ax.hist`\n",
    "\n",
    "<!-- help(ax.hist) -->"
   ]
  },
  {
   "cell_type": "code",
   "execution_count": 11,
   "id": "b8347324-3931-4cec-a53f-d19b9c7ddef6",
   "metadata": {},
   "outputs": [],
   "source": [
    "# 5. Sinal aleatorio (histograma)"
   ]
  },
  {
   "cell_type": "markdown",
   "id": "cf52ac24-2d70-406b-ac0d-17993d21ad92",
   "metadata": {},
   "source": [
    "<img src=\"random-Gaussian-dist.png\" alt=\"\" width=\"500\"/>"
   ]
  },
  {
   "cell_type": "code",
   "execution_count": 2,
   "id": "99ed369b-6a46-42b8-b4d0-a5a4e19f2b84",
   "metadata": {},
   "outputs": [],
   "source": [
    "# 5. Sinal aleatorio (distribuicao uniforme)\n"
   ]
  },
  {
   "cell_type": "markdown",
   "id": "da0e002f-819a-419c-b4c0-e4ec11f065d9",
   "metadata": {},
   "source": [
    "<img src=\"random-uniform.png\" alt=\"\" width=\"500\"/>"
   ]
  },
  {
   "cell_type": "code",
   "execution_count": 3,
   "id": "4cd32c13-d179-4efb-a296-0ee746ded68a",
   "metadata": {},
   "outputs": [],
   "source": [
    "# 5. Sinal aleatorio (histograma)\n"
   ]
  },
  {
   "cell_type": "markdown",
   "id": "6d75bc01-ea47-4ad0-abae-425c518781f2",
   "metadata": {},
   "source": [
    "<img src=\"random-uniform-dist.png\" alt=\"\" width=\"500\"/>"
   ]
  },
  {
   "cell_type": "code",
   "execution_count": null,
   "id": "4ea7d614-a9e1-41cf-af17-ec3f6ae5a2cc",
   "metadata": {},
   "outputs": [],
   "source": []
  }
 ],
 "metadata": {
  "kernelspec": {
   "display_name": "Python 3 (ipykernel)",
   "language": "python",
   "name": "python3"
  },
  "language_info": {
   "codemirror_mode": {
    "name": "ipython",
    "version": 3
   },
   "file_extension": ".py",
   "mimetype": "text/x-python",
   "name": "python",
   "nbconvert_exporter": "python",
   "pygments_lexer": "ipython3",
   "version": "3.13.2"
  }
 },
 "nbformat": 4,
 "nbformat_minor": 5
}
